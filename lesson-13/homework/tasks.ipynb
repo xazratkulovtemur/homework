{
 "cells": [
  {
   "cell_type": "code",
   "execution_count": null,
   "metadata": {},
   "outputs": [
    {
     "name": "stdout",
     "output_type": "stream",
     "text": [
      "[10 11 12 13 14 15 16 17 18 19 20 21 22 23 24 25 26 27 28 29 30 31 32 33\n",
      " 34 35 36 37 38 39 40 41 42 43 44 45 46 47 48 49]\n"
     ]
    }
   ],
   "source": [
    "#task1\n",
    "import numpy as np\n",
    "\n",
    "vector=np.arange(10,50)\n",
    "print(vector)"
   ]
  },
  {
   "cell_type": "code",
   "execution_count": 3,
   "metadata": {},
   "outputs": [
    {
     "name": "stdout",
     "output_type": "stream",
     "text": [
      "[[0 1 2]\n",
      " [3 4 5]\n",
      " [6 7 8]]\n"
     ]
    }
   ],
   "source": [
    "#task2\n",
    "import numpy as np\n",
    "vector=np.arange(9).reshape(3,3)\n",
    "print(vector)"
   ]
  },
  {
   "cell_type": "code",
   "execution_count": 4,
   "metadata": {},
   "outputs": [
    {
     "name": "stdout",
     "output_type": "stream",
     "text": [
      "[[1. 0. 0.]\n",
      " [0. 1. 0.]\n",
      " [0. 0. 1.]]\n"
     ]
    }
   ],
   "source": [
    "#task3\n",
    "import numpy as np\n",
    "identity_matrix=np.eye(3)\n",
    "print(identity_matrix)"
   ]
  },
  {
   "cell_type": "code",
   "execution_count": 7,
   "metadata": {},
   "outputs": [
    {
     "name": "stdout",
     "output_type": "stream",
     "text": [
      "[[[492 886 674]\n",
      "  [335 936 512]\n",
      "  [883 383 940]]\n",
      "\n",
      " [[618 962  36]\n",
      "  [643 145 747]\n",
      "  [121 424 214]]\n",
      "\n",
      " [[821 880 687]\n",
      "  [785 654 598]\n",
      "  [819 967 122]]]\n"
     ]
    }
   ],
   "source": [
    "#task4\n",
    "\n",
    "import numpy as np\n",
    "\n",
    "\n",
    "matrix=np.random.randint(0,1000,(3,3,3))\n",
    "print(matrix)\n"
   ]
  },
  {
   "cell_type": "code",
   "execution_count": 11,
   "metadata": {},
   "outputs": [
    {
     "name": "stdout",
     "output_type": "stream",
     "text": [
      "Max value in array:  992\n",
      "Min value in array:  6\n"
     ]
    }
   ],
   "source": [
    "#task5\n",
    "\n",
    "import numpy as np\n",
    "\n",
    "array=np.random.randint(0,1000,(10,10))\n",
    "print(\"Max value in array: \", array.max())\n",
    "print(\"Min value in array: \", array.min())"
   ]
  },
  {
   "cell_type": "code",
   "execution_count": 23,
   "metadata": {},
   "outputs": [
    {
     "name": "stdout",
     "output_type": "stream",
     "text": [
      "Mean of Vector values:  292.0\n"
     ]
    }
   ],
   "source": [
    "#task6\n",
    "\n",
    "import numpy as np\n",
    "\n",
    "vector=np.random.randint(0,1000)\n",
    "\n",
    "mean=np.mean(vector)\n",
    "print(\"Mean of Vector values: \", mean)"
   ]
  },
  {
   "cell_type": "code",
   "execution_count": 24,
   "metadata": {},
   "outputs": [
    {
     "name": "stdout",
     "output_type": "stream",
     "text": [
      "Original array: \n",
      " [[40 57 43 91 40]\n",
      " [73 76 33 54 75]\n",
      " [29 77 83 79 81]\n",
      " [47 71 40 27 48]\n",
      " [59 12 71 43  8]]\n",
      "\n",
      "Normalized array: \n",
      " [[0.38554217 0.59036145 0.42168675 1.         0.38554217]\n",
      " [0.78313253 0.81927711 0.30120482 0.55421687 0.80722892]\n",
      " [0.25301205 0.8313253  0.90361446 0.85542169 0.87951807]\n",
      " [0.46987952 0.75903614 0.38554217 0.22891566 0.48192771]\n",
      " [0.61445783 0.04819277 0.75903614 0.42168675 0.        ]]\n"
     ]
    }
   ],
   "source": [
    "#task7\n",
    "\n",
    "import numpy as np\n",
    "\n",
    "arr=np.random.randint(0,100,(5,5))\n",
    "normalized_value=(arr-arr.min())/(arr.max()-arr.min())\n",
    "\n",
    "print(\"Original array: \\n\", arr)\n",
    "print(\"\\nNormalized array: \\n\", normalized_value)"
   ]
  },
  {
   "cell_type": "code",
   "execution_count": 2,
   "metadata": {},
   "outputs": [
    {
     "name": "stdout",
     "output_type": "stream",
     "text": [
      "Multipication of 5x3 Matrix with 3x2 Matrix: \n",
      " [[ 4641 11070]\n",
      " [ 6082 10358]\n",
      " [ 3779  5078]\n",
      " [ 5944  8014]\n",
      " [ 4731  9504]]\n"
     ]
    }
   ],
   "source": [
    "#task8\n",
    "import numpy as np\n",
    "\n",
    "arr1=np.random.randint(0,100,(5,3))\n",
    "arr2=np.random.randint(0,100,(3,2))\n",
    "C=arr1 @ arr2\n",
    "\n",
    "print(\"Multipication of 5x3 Matrix with 3x2 Matrix: \\n\", C)\n"
   ]
  },
  {
   "cell_type": "code",
   "execution_count": 3,
   "metadata": {},
   "outputs": [
    {
     "name": "stdout",
     "output_type": "stream",
     "text": [
      "Dot product of two 3x3 Matrices: \n",
      " [[10389 11466  9265]\n",
      " [ 5917  5342  3981]\n",
      " [ 4944  4564  5956]]\n"
     ]
    }
   ],
   "source": [
    "#task9\n",
    "import numpy as np\n",
    "\n",
    "matrix1=np.random.randint(0,100,(3,3))\n",
    "matrix2=np.random.randint(0,100,(3,3))\n",
    "\n",
    "C=matrix1 @ matrix2 \n",
    "\n",
    "print(\"Dot product of two 3x3 Matrices: \\n\", C)"
   ]
  },
  {
   "cell_type": "code",
   "execution_count": 4,
   "metadata": {},
   "outputs": [
    {
     "name": "stdout",
     "output_type": "stream",
     "text": [
      "4x4 matrix:\n",
      " [[58  6 86 17]\n",
      " [90 17 71 30]\n",
      " [83 56 16 61]\n",
      " [75 95 56 24]] \n",
      "\n",
      "and its transpose:\n",
      " [[58 90 83 75]\n",
      " [ 6 17 56 95]\n",
      " [86 71 16 56]\n",
      " [17 30 61 24]]\n"
     ]
    }
   ],
   "source": [
    "#task10\n",
    "\n",
    "import numpy as np\n",
    "arr=np.random.randint(0,100,(4,4))\n",
    "\n",
    "transpose=arr.T\n",
    "print(\"4x4 matrix:\\n\", arr, \"\\n\")\n",
    "print(\"and its transpose:\\n\", transpose)\n"
   ]
  },
  {
   "cell_type": "code",
   "execution_count": null,
   "metadata": {},
   "outputs": [
    {
     "name": "stdout",
     "output_type": "stream",
     "text": [
      "determinant: \n",
      " -167862.99999999985\n"
     ]
    }
   ],
   "source": [
    "#task11\n",
    "\n",
    "import numpy as np\n",
    "\n",
    "arr=np.random.randint(0,100,(3,3))\n",
    "det_arr = np.linalg.det(arr)\n",
    "print(\"determinant: \\n\", det_arr)\n",
    "\n"
   ]
  },
  {
   "cell_type": "code",
   "execution_count": 7,
   "metadata": {},
   "outputs": [
    {
     "name": "stdout",
     "output_type": "stream",
     "text": [
      "Dot product of two matrices: \n",
      " [[ 4473  3656  5816]\n",
      " [ 3226  1931  3977]\n",
      " [15079 11053 16048]]\n"
     ]
    }
   ],
   "source": [
    "#task12\n",
    "\n",
    "import numpy as np\n",
    "\n",
    "arr1=np.random.randint(0,100,(3,4))\n",
    "arr2=np.random.randint(0,100,(4,3))\n",
    "\n",
    "C=np.dot(arr1, arr2)\n",
    "print(\"Dot product of two matrices: \\n\", C)"
   ]
  },
  {
   "cell_type": "code",
   "execution_count": 1,
   "metadata": {},
   "outputs": [
    {
     "name": "stdout",
     "output_type": "stream",
     "text": [
      "Not possible due difference \n"
     ]
    }
   ],
   "source": [
    "#task13\n",
    "\n",
    "import numpy as np\n",
    "matrix=np.random.randint(0,100,(3,3))\n",
    "vector=np.random.randint(0,100,(1,3))\n",
    "try:\n",
    "    c=np.dot(matrix,vector)\n",
    "    print(c)\n",
    "except ValueError:\n",
    "    print(\"Not possible due difference \")"
   ]
  },
  {
   "cell_type": "code",
   "execution_count": 12,
   "metadata": {},
   "outputs": [
    {
     "name": "stdout",
     "output_type": "stream",
     "text": [
      "[[ 0.10118549]\n",
      " [-0.25540071]\n",
      " [ 0.83623994]]\n"
     ]
    }
   ],
   "source": [
    "#task14\n",
    "\n",
    "import numpy as np\n",
    "\n",
    "arr1=np.random.randint(0,100,(3,3))\n",
    "arr2=np.random.randint(0,100,(3,1))\n",
    "\n",
    "x=np.linalg.solve(arr1,arr2)\n",
    "\n",
    "print(x)"
   ]
  },
  {
   "cell_type": "code",
   "execution_count": 13,
   "metadata": {},
   "outputs": [
    {
     "name": "stdout",
     "output_type": "stream",
     "text": [
      "5x5 matrix\n",
      " [[46 32 61 45 69]\n",
      " [ 4 73 35 25 42]\n",
      " [13 29 33 48 20]\n",
      " [ 2 69 16 66 44]\n",
      " [12 41 89 45 25]]\n",
      "Sum of row: \n",
      " [253 179 143 197 212]\n",
      "Sof of cloums: \n",
      "[ 77 244 234 229 200]\n"
     ]
    }
   ],
   "source": [
    "#task15\n",
    "\n",
    "import numpy as np\n",
    "\n",
    "matrix=np.random.randint(0,100,(5,5))\n",
    "\n",
    "sum_of_rows=matrix.sum(axis=1)\n",
    "sum_of_columns=matrix.sum(axis=0)\n",
    "\n",
    "print(\"5x5 matrix\\n\", matrix)\n",
    "print(f\"Sum of row: \\n {sum_of_rows}\")\n",
    "print(f\"Sof of cloums: \\n{sum_of_columns}\")"
   ]
  }
 ],
 "metadata": {
  "kernelspec": {
   "display_name": "Python 3",
   "language": "python",
   "name": "python3"
  },
  "language_info": {
   "codemirror_mode": {
    "name": "ipython",
    "version": 3
   },
   "file_extension": ".py",
   "mimetype": "text/x-python",
   "name": "python",
   "nbconvert_exporter": "python",
   "pygments_lexer": "ipython3",
   "version": "3.10.10"
  }
 },
 "nbformat": 4,
 "nbformat_minor": 2
}
