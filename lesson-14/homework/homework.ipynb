{
 "cells": [
  {
   "cell_type": "code",
   "execution_count": 4,
   "metadata": {},
   "outputs": [
    {
     "name": "stdout",
     "output_type": "stream",
     "text": [
      "Celcious: [  0.          20.          37.77777778 100.          25.        ]\n"
     ]
    }
   ],
   "source": [
    "#task1\n",
    "\n",
    "import numpy as np\n",
    "\n",
    "far_arr=np.array([32,68,100,212,77])\n",
    "\n",
    "\n",
    "@np.vectorize\n",
    "def convert_to_cel(far):\n",
    "    return ((far-32)*5/9)\n",
    "\n",
    "celcious_arr=convert_to_cel(far_arr)\n",
    "print(f\"Celcious: {celcious_arr}\")"
   ]
  },
  {
   "cell_type": "code",
   "execution_count": 7,
   "metadata": {},
   "outputs": [
    {
     "name": "stdout",
     "output_type": "stream",
     "text": [
      "Result: [  2   9  64 625]\n"
     ]
    }
   ],
   "source": [
    "#task2\n",
    "import numpy as np\n",
    "base=np.array([2, 3, 4, 5])\n",
    "pow=np.array([1, 2, 3, 4])\n",
    "@np.vectorize\n",
    "def power(x,y):\n",
    "    return x**y\n",
    "\n",
    "result=power(base,pow)\n",
    "print(f\"Result: {result}\")"
   ]
  },
  {
   "attachments": {
    "image.png": {
     "image/png": "[encoded data removed]"
    }
   },
   "cell_type": "markdown",
   "metadata": {},
   "source": [
    "![image.png](attachment:image.png)"
   ]
  },
  {
   "cell_type": "code",
   "execution_count": 9,
   "metadata": {},
   "outputs": [
    {
     "name": "stdout",
     "output_type": "stream",
     "text": [
      "X,Y,Z: [ 1.7027027   0.62162162 -0.48648649]\n"
     ]
    }
   ],
   "source": [
    "#task3\n",
    "\n",
    "import numpy as np\n",
    "\n",
    "condition=np.array([\n",
    "    [4,5,6],\n",
    "    [3,-1,1],\n",
    "    [2,1,-2]\n",
    "])\n",
    "result=np.array([7,4,5])\n",
    "\n",
    "answer=np.linalg.solve(condition,result)\n",
    "\n",
    "print(f\"X,Y,Z: {answer}\")"
   ]
  },
  {
   "attachments": {
    "image.png": {
     "image/png": "[encoded data removed]"
    }
   },
   "cell_type": "markdown",
   "metadata": {},
   "source": [
    "![image.png](attachment:image.png)"
   ]
  },
  {
   "cell_type": "code",
   "execution_count": 11,
   "metadata": {},
   "outputs": [
    {
     "name": "stdout",
     "output_type": "stream",
     "text": [
      "I_1, I_2,I_3: [ 0.48963731 -0.2253886   2.21761658]\n"
     ]
    }
   ],
   "source": [
    "#task4\n",
    "\n",
    "import numpy as np\n",
    "\n",
    "condition=np.array([\n",
    "    [10,-2,3],\n",
    "    [-2,8,-1],\n",
    "    [3,-1,6]\n",
    "])\n",
    "\n",
    "result=np.array([12,-5,15])\n",
    "\n",
    "root=np.linalg.solve(condition,result)\n",
    "print(f\"I_1, I_2,I_3: {root}\")"
   ]
  },
  {
   "cell_type": "code",
   "execution_count": 17,
   "metadata": {},
   "outputs": [
    {
     "name": "stdout",
     "output_type": "stream",
     "text": [
      "Image found! Ready to process.\n",
      "All image manipulations are complete. Saved results.\n"
     ]
    }
   ],
   "source": [
    "#task5\n",
    "import os\n",
    "import numpy as np\n",
    "from PIL import Image\n",
    "image_path=r\"D:\\MAAB academy new\\python\\homework\\lesson-14\\homework\\images\\sunflower.jpg\"\n",
    "\n",
    "\n",
    "\n",
    "if os.path.exists(image_path):\n",
    "    print(\"Image found! Ready to process.\")\n",
    "    \n",
    "    \n",
    "    def load_image(image_path):\n",
    "        image=Image.open(image_path)\n",
    "        return np.array(image)\n",
    "    def save_image(image_array, output_path):\n",
    "        image = Image.fromarray(image_array.astype(np.uint8))  # Convert NumPy array to image\n",
    "        image.save(output_path)\n",
    "\n",
    "# Function to flip the image\n",
    "    def flip_image(image):\n",
    "        flipped_horizontally = np.flip(image, axis=1)  # Flip left-to-right\n",
    "        flipped_vertically = np.flip(image, axis=0)  # Flip up-to-down\n",
    "        return flipped_horizontally, flipped_vertically\n",
    "\n",
    "# Function to add random noise\n",
    "    def add_noise(image, noise_level=50):\n",
    "        noise = np.random.randint(0, noise_level, image.shape, dtype=np.uint8)  # Generate noise\n",
    "        noisy_image = np.clip(image + noise, 0, 255)  # Add noise and clip values\n",
    "        return noisy_image\n",
    "\n",
    "# Function to brighten a specific channel (e.g., Red)\n",
    "    def brighten_channels(image, brightness_value=40):\n",
    "        brightened_image = image.copy()\n",
    "        brightened_image[:, :, 0] = np.clip(brightened_image[:, :, 0] + brightness_value, 0, 255)  # Increase red channel\n",
    "        return brightened_image\n",
    "\n",
    "# Function to apply a black mask to the center\n",
    "    def apply_mask(image, mask_size=100):\n",
    "        masked_image = image.copy()\n",
    "        height, width, _ = masked_image.shape\n",
    "        start_x, start_y = width // 2 - mask_size // 2, height // 2 - mask_size // 2\n",
    "        masked_image[start_y:start_y + mask_size, start_x:start_x + mask_size] = (0, 0, 0)  # Black mask\n",
    "        return masked_image\n",
    "\n",
    "\n",
    "    def main():\n",
    "    # Load image\n",
    "        image_path = r\"D:\\MAAB academy new\\python\\homework\\lesson-14\\homework\\images\\sunflower.jpg\"\n",
    "        image = load_image(image_path)\n",
    "\n",
    "        # Perform transformations\n",
    "        flipped_h, flipped_v = flip_image(image)\n",
    "        noisy_image = add_noise(image)\n",
    "        brightened_image = brighten_channels(image)\n",
    "        masked_image = apply_mask(image)\n",
    "\n",
    "        # Save outputs\n",
    "        save_image(flipped_h, \"output_flipped_horizontally.jpg\")\n",
    "        save_image(flipped_v, \"output_flipped_vertically.jpg\")\n",
    "        save_image(noisy_image, \"output_noisy.jpg\")\n",
    "        save_image(brightened_image, \"output_brightened.jpg\")\n",
    "        save_image(masked_image, \"output_masked.jpg\")\n",
    "\n",
    "        print(\"All image manipulations are complete. Saved results.\")\n",
    "\n",
    "# Run the program\n",
    "if __name__ == \"__main__\":\n",
    "    main()\n",
    "else:\n",
    "    print(\"Error: Image not found. Check the path.\")\n",
    "\n"
   ]
  }
 ],
 "metadata": {
  "kernelspec": {
   "display_name": "Python 3",
   "language": "python",
   "name": "python3"
  },
  "language_info": {
   "codemirror_mode": {
    "name": "ipython",
    "version": 3
   },
   "file_extension": ".py",
   "mimetype": "text/x-python",
   "name": "python",
   "nbconvert_exporter": "python",
   "pygments_lexer": "ipython3",
   "version": "3.10.10"
  }
 },
 "nbformat": 4,
 "nbformat_minor": 2
}
